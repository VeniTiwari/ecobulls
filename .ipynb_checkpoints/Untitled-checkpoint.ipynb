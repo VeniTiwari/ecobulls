{
 "cells": [
  {
   "cell_type": "code",
   "execution_count": null,
   "id": "e8d00075-1d4f-450e-a130-b24b52403cb4",
   "metadata": {},
   "outputs": [],
   "source": []
  }
 ],
 "metadata": {
  "kernelspec": {
   "display_name": "",
   "name": ""
  },
  "language_info": {
   "name": ""
  }
 },
 "nbformat": 4,
 "nbformat_minor": 5
}
